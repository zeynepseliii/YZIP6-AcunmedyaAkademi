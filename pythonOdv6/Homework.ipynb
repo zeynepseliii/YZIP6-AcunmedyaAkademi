{
 "cells": [
  {
   "cell_type": "code",
   "execution_count": 1,
   "id": "a9ed1d3b-67e2-48f8-8928-04a0181aa854",
   "metadata": {},
   "outputs": [
    {
     "name": "stdout",
     "output_type": "stream",
     "text": [
      "Requirement already satisfied: numpy in c:\\users\\zeyne\\anaconda3\\lib\\site-packages (1.26.4)\n"
     ]
    }
   ],
   "source": [
    "!pip install numpy"
   ]
  },
  {
   "cell_type": "code",
   "execution_count": 7,
   "id": "0d255b69-9b5b-4476-9f05-fd6545894b43",
   "metadata": {},
   "outputs": [],
   "source": [
    "import numpy as np\n",
    "import pandas as pd"
   ]
  },
  {
   "cell_type": "code",
   "execution_count": 8,
   "id": "1521a86b-ad73-49f3-96bc-9678fa649fcd",
   "metadata": {},
   "outputs": [],
   "source": [
    "# Veri setini okuyalım\n",
    "veri = pd.read_csv('symbols_valid_meta.csv')"
   ]
  },
  {
   "cell_type": "code",
   "execution_count": 10,
   "id": "4703c5a3-a400-4570-a82f-e9a94947fe44",
   "metadata": {},
   "outputs": [
    {
     "name": "stdout",
     "output_type": "stream",
     "text": [
      "  Nasdaq Traded Symbol                                      Security Name  \\\n",
      "0             Y      A            Agilent Technologies, Inc. Common Stock   \n",
      "1             Y     AA                    Alcoa Corporation Common Stock    \n",
      "2             Y   AAAU                       Perth Mint Physical Gold ETF   \n",
      "3             Y   AACG  ATA Creativity Global - American Depositary Sh...   \n",
      "4             Y   AADR                AdvisorShares Dorsey Wright ADR ETF   \n",
      "\n",
      "  Listing Exchange Market Category ETF  Round Lot Size Test Issue  \\\n",
      "0                N                   N           100.0          N   \n",
      "1                N                   N           100.0          N   \n",
      "2                P                   Y           100.0          N   \n",
      "3                Q               G   N           100.0          N   \n",
      "4                P                   Y           100.0          N   \n",
      "\n",
      "  Financial Status CQS Symbol NASDAQ Symbol NextShares  \n",
      "0              NaN          A             A          N  \n",
      "1              NaN         AA            AA          N  \n",
      "2              NaN       AAAU          AAAU          N  \n",
      "3                N        NaN          AACG          N  \n",
      "4              NaN       AADR          AADR          N  \n"
     ]
    }
   ],
   "source": [
    "#ilk satırları göster\n",
    "print(veri.head())"
   ]
  },
  {
   "cell_type": "code",
   "execution_count": 14,
   "id": "800a6a4f-6993-448f-81c6-09ee402ce4f0",
   "metadata": {
    "scrolled": true
   },
   "outputs": [
    {
     "name": "stdout",
     "output_type": "stream",
     "text": [
      "Index(['Nasdaq Traded', 'Symbol', 'Security Name', 'Listing Exchange',\n",
      "       'Market Category', 'ETF', 'Round Lot Size', 'Test Issue',\n",
      "       'Financial Status', 'CQS Symbol', 'NASDAQ Symbol', 'NextShares'],\n",
      "      dtype='object')\n"
     ]
    }
   ],
   "source": [
    "print(veri.columns)"
   ]
  },
  {
   "cell_type": "code",
   "execution_count": 24,
   "id": "ef80151d-3a23-463d-8cd2-2aa281f7f63a",
   "metadata": {},
   "outputs": [
    {
     "name": "stdout",
     "output_type": "stream",
     "text": [
      "Ortalama piyasa değeri: 99.94297428251957\n"
     ]
    }
   ],
   "source": [
    "#1. np.mean()-Ortalama Hesaplama\n",
    "#MarketCap sütununun ortalaması \n",
    "ortalama_piyasa_degeri = np.mean(veri['Round Lot Size'])\n",
    "print(f\"Ortalama piyasa değeri: {ortalama_piyasa_degeri}\")"
   ]
  },
  {
   "cell_type": "code",
   "execution_count": 25,
   "id": "81b16b29-e9bb-44fa-bfc9-2c2b39fdbfda",
   "metadata": {},
   "outputs": [
    {
     "name": "stdout",
     "output_type": "stream",
     "text": [
      "Medyan lot büyüklüğü: 100.0\n"
     ]
    }
   ],
   "source": [
    "#2. np.median()-Medyan Hesaplama\n",
    "medyan_lot = np.median(veri['Round Lot Size'])\n",
    "print(f\"Medyan lot büyüklüğü: {medyan_lot}\")"
   ]
  },
  {
   "cell_type": "code",
   "execution_count": 26,
   "id": "c037a468-0200-46f0-9f04-b41ef399ade5",
   "metadata": {},
   "outputs": [
    {
     "name": "stdout",
     "output_type": "stream",
     "text": [
      "Maksimum lot büyüklüğü: 100.0\n"
     ]
    }
   ],
   "source": [
    "#3. np.max()-Maximum Değer Hesaplama\n",
    "maksimum_lot = np.max(veri['Round Lot Size'])\n",
    "print(f\"Maksimum lot büyüklüğü: {maksimum_lot}\")"
   ]
  },
  {
   "cell_type": "code",
   "execution_count": 27,
   "id": "70dd7306-1c1a-4c4e-b2cc-ab0f88899fd3",
   "metadata": {},
   "outputs": [
    {
     "name": "stdout",
     "output_type": "stream",
     "text": [
      "Minimum lot büyüklüğü: 1.0\n"
     ]
    }
   ],
   "source": [
    "#4. np.min()-Minimum Değer Hesaplama\n",
    "minimum_lot = np.min(veri['Round Lot Size'])\n",
    "print(f\"Minimum lot büyüklüğü: {minimum_lot}\")"
   ]
  },
  {
   "cell_type": "code",
   "execution_count": 28,
   "id": "edb66119-9287-4704-b1d5-50df7d1ef0c9",
   "metadata": {},
   "outputs": [
    {
     "name": "stdout",
     "output_type": "stream",
     "text": [
      "Standart sapma: 2.2890521229924254\n"
     ]
    }
   ],
   "source": [
    "#5. np.std()-Standart Sapma Hesaplama\n",
    "std_lot = np.std(veri['Round Lot Size'])\n",
    "print(f\"Standart sapma: {std_lot}\")"
   ]
  },
  {
   "cell_type": "code",
   "execution_count": 29,
   "id": "ffd79486-254a-434a-b707-a9e6e2c2aa91",
   "metadata": {},
   "outputs": [
    {
     "name": "stdout",
     "output_type": "stream",
     "text": [
      "Varyans: 5.23975962177613\n"
     ]
    }
   ],
   "source": [
    "#6. np.var()-Varyans Hesaplama\n",
    "varyans_lot = np.var(veri['Round Lot Size'])\n",
    "print(f\"Varyans: {varyans_lot}\")"
   ]
  },
  {
   "cell_type": "code",
   "execution_count": 30,
   "id": "36899a65-6795-45c8-9afd-02f1f134e5c2",
   "metadata": {},
   "outputs": [
    {
     "name": "stdout",
     "output_type": "stream",
     "text": [
      "Kümülatif toplam: 0          100.0\n",
      "1          200.0\n",
      "2          300.0\n",
      "3          400.0\n",
      "4          500.0\n",
      "          ...   \n",
      "8044    804041.0\n",
      "8045    804141.0\n",
      "8046    804241.0\n",
      "8047    804341.0\n",
      "8048    804441.0\n",
      "Name: Round Lot Size, Length: 8049, dtype: float64\n"
     ]
    }
   ],
   "source": [
    "#7. np.cumsum()-Kümülatif Toplam Hesaplama\n",
    "kumulatif_lot = np.cumsum(veri['Round Lot Size'])\n",
    "print(f\"Kümülatif toplam: {kumulatif_lot}\")"
   ]
  },
  {
   "cell_type": "code",
   "execution_count": 31,
   "id": "96c4042e-2c82-4920-9440-6246f0705330",
   "metadata": {},
   "outputs": [
    {
     "name": "stdout",
     "output_type": "stream",
     "text": [
      "Lot büyüklükleri arasındaki fark: [0. 0. 0. ... 0. 0. 0.]\n"
     ]
    }
   ],
   "source": [
    "#8. np.diff()-Fark Hesaplama\n",
    "lot_fark = np.diff(veri['Round Lot Size'])\n",
    "print(f\"Lot büyüklükleri arasındaki fark: {lot_fark}\")"
   ]
  },
  {
   "cell_type": "code",
   "execution_count": 32,
   "id": "6cc9a58e-a69f-4694-a081-31cba46f6360",
   "metadata": {},
   "outputs": [
    {
     "name": "stdout",
     "output_type": "stream",
     "text": [
      "Sıralı lot büyüklükleri: [  1.  10.  10. ... 100. 100. 100.]\n"
     ]
    }
   ],
   "source": [
    "#9. np.sort()-Sıralama\n",
    "sirali_lot = np.sort(veri['Round Lot Size'])\n",
    "print(f\"Sıralı lot büyüklükleri: {sirali_lot}\")"
   ]
  },
  {
   "cell_type": "code",
   "execution_count": 33,
   "id": "ca455172-b4a6-4ad2-bee5-bf2eb83dee3d",
   "metadata": {},
   "outputs": [
    {
     "name": "stdout",
     "output_type": "stream",
     "text": [
      "Maksimum lot indeks: 0\n",
      "Minimum lot indeks: 6406\n"
     ]
    }
   ],
   "source": [
    "#10. np.argmax/np.argmin()-Maksimum ve Minimum Değer İndexi\n",
    "maksimum_indeks = np.argmax(veri['Round Lot Size'])\n",
    "minimum_indeks = np.argmin(veri['Round Lot Size'])\n",
    "\n",
    "print(f\"Maksimum lot indeks: {maksimum_indeks}\")\n",
    "print(f\"Minimum lot indeks: {minimum_indeks}\")"
   ]
  }
 ],
 "metadata": {
  "kernelspec": {
   "display_name": "Python 3 (ipykernel)",
   "language": "python",
   "name": "python3"
  },
  "language_info": {
   "codemirror_mode": {
    "name": "ipython",
    "version": 3
   },
   "file_extension": ".py",
   "mimetype": "text/x-python",
   "name": "python",
   "nbconvert_exporter": "python",
   "pygments_lexer": "ipython3",
   "version": "3.12.7"
  }
 },
 "nbformat": 4,
 "nbformat_minor": 5
}
